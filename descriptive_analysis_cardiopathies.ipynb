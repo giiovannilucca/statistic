{
  "nbformat": 4,
  "nbformat_minor": 0,
  "metadata": {
    "colab": {
      "name": "Análise estatística.ipynb",
      "provenance": [],
      "collapsed_sections": [
        "WUD4H1eb6TnJ"
      ]
    },
    "kernelspec": {
      "name": "python3",
      "display_name": "Python 3"
    },
    "language_info": {
      "name": "python"
    }
  },
  "cells": [
    {
      "cell_type": "markdown",
      "source": [
        "# Descrição dos dados\n",
        "\n",
        "<p align='justify'> As cardiopatias congênitas têm como causa diversos fatores, dentre eles as condições maternas durante a gestação. A identificação, o diagnóstico e o\n",
        "tratamento das cardiopatias são decorrentes das ações de saúde desenvolvidas por uma equipe multidisciplinar, onde cada profissional tem responsabilidade quanto ao desfecho produzido. A maioria das cardiopatias congênitas pode ser evitada e suas repercussões minimizadas com assistência pré-concepcional, pré-natal e planejamento familiar adequado. Sendo assim, buscou-se neste estudo a identificação dos fatores de risco maternos associados à ocorrência deste evento por meio da resposta ao seguinte questionamento: Há associação entre os fatores de riscos maternos e as cardiopatias congênitas? O estudo analisou 22 casos de recém-nascidos diagnosticados com cardiopatia congênita no HUUFMA, nos anos de 2019 e 2020. </p>\n",
        "\n",
        "*   Óbito: indica se o recém-nascido veio a óbito ou não\n",
        "*   Idade: indica a idade da mãe\n",
        "*   Uso de medicamentos: indica se a mãe faz uso de medicamentos ou não\n",
        "*   Aborto: indica se a mãe já teve aborto ou não\n",
        "*   Comorbidades: indica se a mãe tem comorbidade ou não\n",
        "*   Ocupação: indica o atual cenário da mãe\n",
        "*   Local de residência: indica o atual local de residência da mãe \n",
        "*   Números de consultas de pré-natal: indica a quantidade de consultas de pré-natal\n",
        "*   Sexo: indica o sexo do bebê\n",
        "*   Raça: indica a raça do bebê\n",
        "*   Idade gestacional: indica o tempo de gestação da mãe\n",
        "*   APGAR 1 minuto: indica o valor medido no primeiro minuto do bebê\n",
        "*   Peso ao nascer: indica o peso de nascimento do bebê\n",
        "\n",
        "\n",
        "\n",
        "\n",
        "\n",
        "\n",
        "\n",
        "\n",
        "\n",
        "\n"
      ],
      "metadata": {
        "id": "3Tx_O61RL7G3"
      }
    },
    {
      "cell_type": "markdown",
      "source": [
        "# Leitura dos dados\n",
        "\n"
      ],
      "metadata": {
        "id": "hTl-N6Pn4ARQ"
      }
    },
    {
      "cell_type": "code",
      "execution_count": 381,
      "metadata": {
        "id": "R6iKRlg3pALo",
        "colab": {
          "base_uri": "https://localhost:8080/",
          "height": 206
        },
        "outputId": "f60534ea-0aac-46e1-ad6c-1f9015b2d785"
      },
      "outputs": [
        {
          "output_type": "execute_result",
          "data": {
            "text/plain": [
              "   Obito  Idade  Uso de medicamentos Abortos         Comorbidades             Ocupação  Local de residência  Número de consultas de pré-natal       Sexo           Raça Idade gestacional  Apgar 1 min Peso ao nascer\n",
              "0      0     24                  não      A0                  não  trabalho remunerado             São Luis                                 4   Feminino          parda          37s e 3d            9         2,765g\n",
              "1      0     26                  não     A0                   não  trabalho remunerado               Raposa                                 7   Feminino  Não informado          38s e 3d            7         3,190g\n",
              "2      0     36                  não     A0                   não               Do lar  São José de Ribamar                                10  Masculino  Não informado          38s e 4d            7         3,110g\n",
              "3      0     31   sim, 1 medicamento      A0   sim, 1 comorbidade        Não informado             São Luis                                10  Masculino          pardo          38s e 5d            9         3,116g\n",
              "4      0     42  sim, 3 medicamentos      A0  sim, 3 comorbidades               do lar             São Luis                                 7   Feminino          parda          37s e 3d            5         4,425g"
            ],
            "text/html": [
              "\n",
              "  <div id=\"df-61c19af8-1455-4aa3-ab21-657ad508bcfc\">\n",
              "    <div class=\"colab-df-container\">\n",
              "      <div>\n",
              "<style scoped>\n",
              "    .dataframe tbody tr th:only-of-type {\n",
              "        vertical-align: middle;\n",
              "    }\n",
              "\n",
              "    .dataframe tbody tr th {\n",
              "        vertical-align: top;\n",
              "    }\n",
              "\n",
              "    .dataframe thead th {\n",
              "        text-align: right;\n",
              "    }\n",
              "</style>\n",
              "<table border=\"1\" class=\"dataframe\">\n",
              "  <thead>\n",
              "    <tr style=\"text-align: right;\">\n",
              "      <th></th>\n",
              "      <th>Obito</th>\n",
              "      <th>Idade</th>\n",
              "      <th>Uso de medicamentos</th>\n",
              "      <th>Abortos</th>\n",
              "      <th>Comorbidades</th>\n",
              "      <th>Ocupação</th>\n",
              "      <th>Local de residência</th>\n",
              "      <th>Número de consultas de pré-natal</th>\n",
              "      <th>Sexo</th>\n",
              "      <th>Raça</th>\n",
              "      <th>Idade gestacional</th>\n",
              "      <th>Apgar 1 min</th>\n",
              "      <th>Peso ao nascer</th>\n",
              "    </tr>\n",
              "  </thead>\n",
              "  <tbody>\n",
              "    <tr>\n",
              "      <th>0</th>\n",
              "      <td>0</td>\n",
              "      <td>24</td>\n",
              "      <td>não</td>\n",
              "      <td>A0</td>\n",
              "      <td>não</td>\n",
              "      <td>trabalho remunerado</td>\n",
              "      <td>São Luis</td>\n",
              "      <td>4</td>\n",
              "      <td>Feminino</td>\n",
              "      <td>parda</td>\n",
              "      <td>37s e 3d</td>\n",
              "      <td>9</td>\n",
              "      <td>2,765g</td>\n",
              "    </tr>\n",
              "    <tr>\n",
              "      <th>1</th>\n",
              "      <td>0</td>\n",
              "      <td>26</td>\n",
              "      <td>não</td>\n",
              "      <td>A0</td>\n",
              "      <td>não</td>\n",
              "      <td>trabalho remunerado</td>\n",
              "      <td>Raposa</td>\n",
              "      <td>7</td>\n",
              "      <td>Feminino</td>\n",
              "      <td>Não informado</td>\n",
              "      <td>38s e 3d</td>\n",
              "      <td>7</td>\n",
              "      <td>3,190g</td>\n",
              "    </tr>\n",
              "    <tr>\n",
              "      <th>2</th>\n",
              "      <td>0</td>\n",
              "      <td>36</td>\n",
              "      <td>não</td>\n",
              "      <td>A0</td>\n",
              "      <td>não</td>\n",
              "      <td>Do lar</td>\n",
              "      <td>São José de Ribamar</td>\n",
              "      <td>10</td>\n",
              "      <td>Masculino</td>\n",
              "      <td>Não informado</td>\n",
              "      <td>38s e 4d</td>\n",
              "      <td>7</td>\n",
              "      <td>3,110g</td>\n",
              "    </tr>\n",
              "    <tr>\n",
              "      <th>3</th>\n",
              "      <td>0</td>\n",
              "      <td>31</td>\n",
              "      <td>sim, 1 medicamento</td>\n",
              "      <td>A0</td>\n",
              "      <td>sim, 1 comorbidade</td>\n",
              "      <td>Não informado</td>\n",
              "      <td>São Luis</td>\n",
              "      <td>10</td>\n",
              "      <td>Masculino</td>\n",
              "      <td>pardo</td>\n",
              "      <td>38s e 5d</td>\n",
              "      <td>9</td>\n",
              "      <td>3,116g</td>\n",
              "    </tr>\n",
              "    <tr>\n",
              "      <th>4</th>\n",
              "      <td>0</td>\n",
              "      <td>42</td>\n",
              "      <td>sim, 3 medicamentos</td>\n",
              "      <td>A0</td>\n",
              "      <td>sim, 3 comorbidades</td>\n",
              "      <td>do lar</td>\n",
              "      <td>São Luis</td>\n",
              "      <td>7</td>\n",
              "      <td>Feminino</td>\n",
              "      <td>parda</td>\n",
              "      <td>37s e 3d</td>\n",
              "      <td>5</td>\n",
              "      <td>4,425g</td>\n",
              "    </tr>\n",
              "  </tbody>\n",
              "</table>\n",
              "</div>\n",
              "      <button class=\"colab-df-convert\" onclick=\"convertToInteractive('df-61c19af8-1455-4aa3-ab21-657ad508bcfc')\"\n",
              "              title=\"Convert this dataframe to an interactive table.\"\n",
              "              style=\"display:none;\">\n",
              "        \n",
              "  <svg xmlns=\"http://www.w3.org/2000/svg\" height=\"24px\"viewBox=\"0 0 24 24\"\n",
              "       width=\"24px\">\n",
              "    <path d=\"M0 0h24v24H0V0z\" fill=\"none\"/>\n",
              "    <path d=\"M18.56 5.44l.94 2.06.94-2.06 2.06-.94-2.06-.94-.94-2.06-.94 2.06-2.06.94zm-11 1L8.5 8.5l.94-2.06 2.06-.94-2.06-.94L8.5 2.5l-.94 2.06-2.06.94zm10 10l.94 2.06.94-2.06 2.06-.94-2.06-.94-.94-2.06-.94 2.06-2.06.94z\"/><path d=\"M17.41 7.96l-1.37-1.37c-.4-.4-.92-.59-1.43-.59-.52 0-1.04.2-1.43.59L10.3 9.45l-7.72 7.72c-.78.78-.78 2.05 0 2.83L4 21.41c.39.39.9.59 1.41.59.51 0 1.02-.2 1.41-.59l7.78-7.78 2.81-2.81c.8-.78.8-2.07 0-2.86zM5.41 20L4 18.59l7.72-7.72 1.47 1.35L5.41 20z\"/>\n",
              "  </svg>\n",
              "      </button>\n",
              "      \n",
              "  <style>\n",
              "    .colab-df-container {\n",
              "      display:flex;\n",
              "      flex-wrap:wrap;\n",
              "      gap: 12px;\n",
              "    }\n",
              "\n",
              "    .colab-df-convert {\n",
              "      background-color: #E8F0FE;\n",
              "      border: none;\n",
              "      border-radius: 50%;\n",
              "      cursor: pointer;\n",
              "      display: none;\n",
              "      fill: #1967D2;\n",
              "      height: 32px;\n",
              "      padding: 0 0 0 0;\n",
              "      width: 32px;\n",
              "    }\n",
              "\n",
              "    .colab-df-convert:hover {\n",
              "      background-color: #E2EBFA;\n",
              "      box-shadow: 0px 1px 2px rgba(60, 64, 67, 0.3), 0px 1px 3px 1px rgba(60, 64, 67, 0.15);\n",
              "      fill: #174EA6;\n",
              "    }\n",
              "\n",
              "    [theme=dark] .colab-df-convert {\n",
              "      background-color: #3B4455;\n",
              "      fill: #D2E3FC;\n",
              "    }\n",
              "\n",
              "    [theme=dark] .colab-df-convert:hover {\n",
              "      background-color: #434B5C;\n",
              "      box-shadow: 0px 1px 3px 1px rgba(0, 0, 0, 0.15);\n",
              "      filter: drop-shadow(0px 1px 2px rgba(0, 0, 0, 0.3));\n",
              "      fill: #FFFFFF;\n",
              "    }\n",
              "  </style>\n",
              "\n",
              "      <script>\n",
              "        const buttonEl =\n",
              "          document.querySelector('#df-61c19af8-1455-4aa3-ab21-657ad508bcfc button.colab-df-convert');\n",
              "        buttonEl.style.display =\n",
              "          google.colab.kernel.accessAllowed ? 'block' : 'none';\n",
              "\n",
              "        async function convertToInteractive(key) {\n",
              "          const element = document.querySelector('#df-61c19af8-1455-4aa3-ab21-657ad508bcfc');\n",
              "          const dataTable =\n",
              "            await google.colab.kernel.invokeFunction('convertToInteractive',\n",
              "                                                     [key], {});\n",
              "          if (!dataTable) return;\n",
              "\n",
              "          const docLinkHtml = 'Like what you see? Visit the ' +\n",
              "            '<a target=\"_blank\" href=https://colab.research.google.com/notebooks/data_table.ipynb>data table notebook</a>'\n",
              "            + ' to learn more about interactive tables.';\n",
              "          element.innerHTML = '';\n",
              "          dataTable['output_type'] = 'display_data';\n",
              "          await google.colab.output.renderOutput(dataTable, element);\n",
              "          const docLink = document.createElement('div');\n",
              "          docLink.innerHTML = docLinkHtml;\n",
              "          element.appendChild(docLink);\n",
              "        }\n",
              "      </script>\n",
              "    </div>\n",
              "  </div>\n",
              "  "
            ]
          },
          "metadata": {},
          "execution_count": 381
        }
      ],
      "source": [
        "import pandas as pd\n",
        "\n",
        "df = pd.read_excel(\"dados.xlsx\")\n",
        "\n",
        "df.head()"
      ]
    },
    {
      "cell_type": "markdown",
      "source": [
        "# Funções complementares"
      ],
      "metadata": {
        "id": "WUD4H1eb6TnJ"
      }
    },
    {
      "cell_type": "code",
      "source": [
        "def get_lower(df, cols):  \n",
        "    for col in cols:  \n",
        "        df[col] = df[col].str.lower()"
      ],
      "metadata": {
        "id": "FLFGSSQz6Zjx"
      },
      "execution_count": 382,
      "outputs": []
    },
    {
      "cell_type": "code",
      "source": [
        "def remove_accent(df, cols):\n",
        "    for col in cols:\n",
        "      df[col] = df[col].str.normalize('NFKD').str.encode('ascii', errors='ignore').str.decode('utf-8')"
      ],
      "metadata": {
        "id": "L5EFBmqJ7hhK"
      },
      "execution_count": 383,
      "outputs": []
    },
    {
      "cell_type": "code",
      "source": [
        "def remove_parentheses(df, cols):\n",
        "    for col in cols:\n",
        "        df[col] = df[col].str.replace(r'\\(.*\\)', '')"
      ],
      "metadata": {
        "id": "WQhciplw9Mfq"
      },
      "execution_count": 384,
      "outputs": []
    },
    {
      "cell_type": "code",
      "source": [
        "def check_substring(df, cols, string):  \n",
        "    for col in cols:  \n",
        "       df[col] = df[col].str.contains(string, case=False)        "
      ],
      "metadata": {
        "id": "1yd9lgclCRM5"
      },
      "execution_count": 385,
      "outputs": []
    },
    {
      "cell_type": "code",
      "source": [
        "def convert_to_int(df, cols):  \n",
        "    for col in cols: \n",
        "        df[col] = df[col].astype(int)"
      ],
      "metadata": {
        "id": "fr7upleUCiPO"
      },
      "execution_count": 386,
      "outputs": []
    },
    {
      "cell_type": "code",
      "source": [
        "def convert_to_float(df, cols):  \n",
        "    for col in cols: \n",
        "        df[col] = df[col].astype(float)"
      ],
      "metadata": {
        "id": "Le8ye0dgK_pH"
      },
      "execution_count": 387,
      "outputs": []
    },
    {
      "cell_type": "code",
      "source": [
        "def replace_char(df, cols, char_old, char_actual):\n",
        "    for col in cols:\n",
        "        df[col] = df[col].str.replace(char_old, char_actual)"
      ],
      "metadata": {
        "id": "XvQ6QEaiJ87N"
      },
      "execution_count": 388,
      "outputs": []
    },
    {
      "cell_type": "code",
      "source": [
        "def remove_blank_spaces(df, cols):  \n",
        "    for col in cols: \n",
        "        df[col] = df[col].str.strip()"
      ],
      "metadata": {
        "id": "2JklITcaDR9p"
      },
      "execution_count": 389,
      "outputs": []
    },
    {
      "cell_type": "code",
      "source": [
        "def remove_specific_char(df, cols, char):\n",
        "    for col in cols:\n",
        "        df[col] = df[col].str.replace(char, '')"
      ],
      "metadata": {
        "id": "NCKU5vsvEUMa"
      },
      "execution_count": 390,
      "outputs": []
    },
    {
      "cell_type": "code",
      "source": [
        "def delete_last_char(df, cols):\n",
        "    for col in cols:\n",
        "        df[col] = df[col].str[:-1]"
      ],
      "metadata": {
        "id": "oDzywzsTIU9h"
      },
      "execution_count": 391,
      "outputs": []
    },
    {
      "cell_type": "code",
      "source": [
        "def split_string(df, cols, char):  \n",
        "    for col in cols:  \n",
        "        df[col] = df[col].str.split(char, expand=True)[0]"
      ],
      "metadata": {
        "id": "kkksZ05UIwI8"
      },
      "execution_count": 392,
      "outputs": []
    },
    {
      "cell_type": "code",
      "source": [
        "def get_intervals(df, cols, n = 3):\n",
        "    for col in cols:\n",
        "        quantile = pd.qcut(df[col], n, labels=False, retbins=False)    \n",
        "        for i in range(n):\n",
        "            minn = df[col].loc[quantile == i].min()\n",
        "            maxx = df[col].loc[quantile == i].max()\n",
        "            qnt = df[col].loc[quantile == i].count()\n",
        "            \n",
        "            print(minn, maxx, qnt)"
      ],
      "metadata": {
        "id": "s1hCtYNVxlV3"
      },
      "execution_count": 393,
      "outputs": []
    },
    {
      "cell_type": "code",
      "source": [
        "def analyze_dataframe(df):\n",
        "    pd.set_option('display.width', 1000)\n",
        "\n",
        "    print(df.info())\n",
        "\n",
        "    print()\n",
        "    print('Variáveis quantitativas:')\n",
        "    print(df.describe().transpose())\n",
        "\n",
        "    print()\n",
        "    print('Variáveis qualitativas:')\n",
        "    print(df.describe(include='O').transpose())"
      ],
      "metadata": {
        "id": "H-0Cw2AN8Zw-"
      },
      "execution_count": 394,
      "outputs": []
    },
    {
      "cell_type": "code",
      "source": [
        "def crosstable_quality(df, cols, target, normalize=False):  \n",
        "    df_list = []\n",
        "\n",
        "    for i, col in enumerate(cols):\n",
        "      df_list.append(pd.crosstab(df[col], df[target], normalize=normalize))\n",
        "\n",
        "    return pd.concat(df_list, keys=cols)"
      ],
      "metadata": {
        "id": "4dnfNSt49B_t"
      },
      "execution_count": 395,
      "outputs": []
    },
    {
      "cell_type": "code",
      "source": [
        "def crosstable_target(df, target_variable, path = None):  \n",
        "    categorical_vars = df.describe(include='O').columns\n",
        "\n",
        "    df_desc_f = crosstable_quality(df, categorical_vars, target_variable)\n",
        "\n",
        "    df_desc_p = crosstable_quality(df, categorical_vars, target_variable, normalize='columns').round(4)*100\n",
        "\n",
        "    if path != None:\n",
        "        with pd.ExcelWriter(path) as writer:  \n",
        "            df_desc_f.to_excel(writer, sheet_name='frequencia')\n",
        "            df_desc_p.to_excel(writer, sheet_name='frequencia_relativa')"
      ],
      "metadata": {
        "id": "0896r7Vu9AzG"
      },
      "execution_count": 396,
      "outputs": []
    },
    {
      "cell_type": "markdown",
      "source": [
        "# Pré-processamento dos dados"
      ],
      "metadata": {
        "id": "ob0Wmj1U3vKf"
      }
    },
    {
      "cell_type": "code",
      "source": [
        "#Atributo Idade\n",
        "df.loc[df['Idade'] <= 24, 'Idade categoria'] = 'Até 24 anos'\n",
        "\n",
        "df.loc[(df['Idade'] >= 25) & (df['Idade'] < 35), 'Idade categoria'] = 'Entre 25 e 34 anos'\n",
        "\n",
        "df.loc[df['Idade'] >= 35, 'Idade categoria'] = 'Maior que 35 anos'\n",
        "\n",
        "df.drop('Idade', axis='columns', inplace = True)\n",
        "\n",
        "df['Idade categoria'].value_counts()"
      ],
      "metadata": {
        "colab": {
          "base_uri": "https://localhost:8080/"
        },
        "id": "S_RsUfmrOZwa",
        "outputId": "b831922d-b8fc-4478-ddcc-8ba188ea2946"
      },
      "execution_count": 397,
      "outputs": [
        {
          "output_type": "execute_result",
          "data": {
            "text/plain": [
              "Entre 25 e 34 anos    9\n",
              "Maior que 35 anos     7\n",
              "Até 24 anos           6\n",
              "Name: Idade categoria, dtype: int64"
            ]
          },
          "metadata": {},
          "execution_count": 397
        }
      ]
    },
    {
      "cell_type": "code",
      "source": [
        "#Atributo Uso de medicamentos\n",
        "check_substring(df, ['Uso de medicamentos'], 'sim')\n",
        "\n",
        "convert_to_int(df, ['Uso de medicamentos'])\n",
        "\n",
        "mapping = {0: 'Não', 1: 'Sim'}\n",
        "\n",
        "df['Uso de medicamentos'] = df['Uso de medicamentos'].map(mapping)\n",
        "\n",
        "df['Uso de medicamentos'].value_counts()"
      ],
      "metadata": {
        "colab": {
          "base_uri": "https://localhost:8080/"
        },
        "id": "acfuy8OAuaRN",
        "outputId": "a6a86d69-2fe6-48df-f1d1-123d3499ff34"
      },
      "execution_count": 398,
      "outputs": [
        {
          "output_type": "execute_result",
          "data": {
            "text/plain": [
              "Não    18\n",
              "Sim     4\n",
              "Name: Uso de medicamentos, dtype: int64"
            ]
          },
          "metadata": {},
          "execution_count": 398
        }
      ]
    },
    {
      "cell_type": "code",
      "source": [
        "#Atributo Abortos\n",
        "remove_blank_spaces(df, ['Abortos'])\n",
        "\n",
        "remove_specific_char(df, ['Abortos'], 'A')\n",
        "\n",
        "replace_char(df, ['Abortos'], '2', '1')\n",
        "\n",
        "convert_to_int(df, ['Abortos'])\n",
        "\n",
        "mapping = {0: 'Não', 1: 'Sim'}\n",
        "\n",
        "df['Abortos'] = df['Abortos'].map(mapping)\n",
        "\n",
        "df['Abortos'].value_counts()"
      ],
      "metadata": {
        "colab": {
          "base_uri": "https://localhost:8080/"
        },
        "id": "nRVm5Y_nC8Gy",
        "outputId": "1e4c6ee7-90e6-4999-b2ce-afee4b360196"
      },
      "execution_count": 399,
      "outputs": [
        {
          "output_type": "execute_result",
          "data": {
            "text/plain": [
              "Não    18\n",
              "Sim     4\n",
              "Name: Abortos, dtype: int64"
            ]
          },
          "metadata": {},
          "execution_count": 399
        }
      ]
    },
    {
      "cell_type": "code",
      "source": [
        "#Atributo Comorbidades\n",
        "check_substring(df, ['Comorbidades'], 'sim')\n",
        "\n",
        "convert_to_int(df, ['Comorbidades'])\n",
        "\n",
        "mapping = {0: 'Não', 1: 'Sim'}\n",
        "\n",
        "df['Comorbidades'] = df['Comorbidades'].map(mapping)\n",
        "\n",
        "df['Comorbidades'].value_counts()"
      ],
      "metadata": {
        "colab": {
          "base_uri": "https://localhost:8080/"
        },
        "id": "1qhaULgAE7st",
        "outputId": "832b32f6-7428-442a-86e3-6163214e932d"
      },
      "execution_count": 400,
      "outputs": [
        {
          "output_type": "execute_result",
          "data": {
            "text/plain": [
              "Não    16\n",
              "Sim     6\n",
              "Name: Comorbidades, dtype: int64"
            ]
          },
          "metadata": {},
          "execution_count": 400
        }
      ]
    },
    {
      "cell_type": "code",
      "source": [
        "#Atributo Ocupação\n",
        "get_lower(df, ['Ocupação'])\n",
        "\n",
        "df['Ocupação'].value_counts()"
      ],
      "metadata": {
        "colab": {
          "base_uri": "https://localhost:8080/"
        },
        "id": "if1Sra7-FGAO",
        "outputId": "85bd0988-a4d3-4126-eae4-b1f8c2b4c871"
      },
      "execution_count": 401,
      "outputs": [
        {
          "output_type": "execute_result",
          "data": {
            "text/plain": [
              "trabalho remunerado    10\n",
              "do lar                  5\n",
              "estudante               5\n",
              "não informado           2\n",
              "Name: Ocupação, dtype: int64"
            ]
          },
          "metadata": {},
          "execution_count": 401
        }
      ]
    },
    {
      "cell_type": "code",
      "source": [
        "#Atributo Local de residência\n",
        "get_lower(df, ['Local de residência'])\n",
        "\n",
        "df['Local de residência'].value_counts()"
      ],
      "metadata": {
        "colab": {
          "base_uri": "https://localhost:8080/"
        },
        "id": "zlAaoD9iFW5N",
        "outputId": "6583cf3b-4048-4def-b25c-2ddcc4258409"
      },
      "execution_count": 402,
      "outputs": [
        {
          "output_type": "execute_result",
          "data": {
            "text/plain": [
              "são luis               17\n",
              "são josé de ribamar     4\n",
              "raposa                  1\n",
              "Name: Local de residência, dtype: int64"
            ]
          },
          "metadata": {},
          "execution_count": 402
        }
      ]
    },
    {
      "cell_type": "code",
      "source": [
        "#Atributo Número de consultas de pré-natal\n",
        "df.loc[df['Número de consultas de pré-natal'] <= 7, 'Prenatal'] = 'Até 7 consultas'\n",
        "\n",
        "df.loc[(df['Número de consultas de pré-natal'] >= 8) & (df['Número de consultas de pré-natal'] < 10), 'Prenatal'] = '8 e 9 consultas'\n",
        "\n",
        "df.loc[df['Número de consultas de pré-natal'] >= 10, 'Prenatal'] = 'Maior que 10 consultas'\n",
        "\n",
        "df.drop('Número de consultas de pré-natal', axis='columns', inplace = True)\n",
        "\n",
        "df['Prenatal'].value_counts()"
      ],
      "metadata": {
        "colab": {
          "base_uri": "https://localhost:8080/"
        },
        "id": "8JymPrUCT8me",
        "outputId": "218573c6-e54b-4133-fd5c-670d35d62cb2"
      },
      "execution_count": 403,
      "outputs": [
        {
          "output_type": "execute_result",
          "data": {
            "text/plain": [
              "Até 7 consultas           10\n",
              "Maior que 10 consultas     6\n",
              "8 e 9 consultas            6\n",
              "Name: Prenatal, dtype: int64"
            ]
          },
          "metadata": {},
          "execution_count": 403
        }
      ]
    },
    {
      "cell_type": "code",
      "source": [
        "#Atributo Sexo\n",
        "get_lower(df, ['Sexo'])\n",
        "\n",
        "remove_specific_char(df, ['Sexo'], '\\t')\n",
        "\n",
        "remove_blank_spaces(df, ['Sexo'])\n",
        "\n",
        "df['Sexo'].value_counts()"
      ],
      "metadata": {
        "colab": {
          "base_uri": "https://localhost:8080/"
        },
        "id": "2fXHdxBkFiAK",
        "outputId": "9a2e9fed-a053-4151-cf3a-87caf5d9d09c"
      },
      "execution_count": 404,
      "outputs": [
        {
          "output_type": "execute_result",
          "data": {
            "text/plain": [
              "feminino     11\n",
              "masculino    11\n",
              "Name: Sexo, dtype: int64"
            ]
          },
          "metadata": {},
          "execution_count": 404
        }
      ]
    },
    {
      "cell_type": "code",
      "source": [
        "#Atributo Raça\n",
        "get_lower(df, ['Raça'])\n",
        "\n",
        "delete_last_char(df, ['Raça'])\n",
        "\n",
        "df['Raça'].value_counts()"
      ],
      "metadata": {
        "colab": {
          "base_uri": "https://localhost:8080/"
        },
        "id": "bk_2GgDxGSyv",
        "outputId": "3d4817ed-9c35-4f3e-f6e9-30877a05064b"
      },
      "execution_count": 405,
      "outputs": [
        {
          "output_type": "execute_result",
          "data": {
            "text/plain": [
              "não informad    11\n",
              "pard             8\n",
              "branc            3\n",
              "Name: Raça, dtype: int64"
            ]
          },
          "metadata": {},
          "execution_count": 405
        }
      ]
    },
    {
      "cell_type": "code",
      "source": [
        "#Atributo Idade gestacional\n",
        "split_string(df, ['Idade gestacional'], 's')\n",
        "\n",
        "convert_to_int(df, ['Idade gestacional'])\n",
        "\n",
        "df.loc[df['Idade gestacional'] < 37, 'Semanas'] = 'Até 37 semanas'\n",
        "\n",
        "df.loc[df['Idade gestacional'] >= 37, 'Semanas'] = 'Maior que 37 semanas'\n",
        "\n",
        "df.drop('Idade gestacional', axis='columns', inplace = True)\n",
        "\n",
        "df['Semanas'].value_counts()"
      ],
      "metadata": {
        "colab": {
          "base_uri": "https://localhost:8080/"
        },
        "id": "hOSQ0DXXIrNO",
        "outputId": "e122a90e-6bbd-443d-99e1-7a00f77c7f98"
      },
      "execution_count": 406,
      "outputs": [
        {
          "output_type": "execute_result",
          "data": {
            "text/plain": [
              "Maior que 37 semanas    16\n",
              "Até 37 semanas           6\n",
              "Name: Semanas, dtype: int64"
            ]
          },
          "metadata": {},
          "execution_count": 406
        }
      ]
    },
    {
      "cell_type": "code",
      "source": [
        "#Atributo APGAR\n",
        "df.loc[df['Apgar 1 min'] < 7, 'Apgar 1 min categoria'] = 'Abaixo de 7'\n",
        "\n",
        "df.loc[df['Apgar 1 min'] >= 7, 'Apgar 1 min categoria'] = 'Igual ou maior que 7'\n",
        "\n",
        "df.drop('Apgar 1 min', axis='columns', inplace = True)\n",
        "\n",
        "df['Apgar 1 min categoria'].value_counts()"
      ],
      "metadata": {
        "colab": {
          "base_uri": "https://localhost:8080/"
        },
        "id": "JRFIrim3zJYX",
        "outputId": "7a86edde-04ee-44e1-d890-a7806be7c6ac"
      },
      "execution_count": 407,
      "outputs": [
        {
          "output_type": "execute_result",
          "data": {
            "text/plain": [
              "Igual ou maior que 7    15\n",
              "Abaixo de 7              7\n",
              "Name: Apgar 1 min categoria, dtype: int64"
            ]
          },
          "metadata": {},
          "execution_count": 407
        }
      ]
    },
    {
      "cell_type": "code",
      "source": [
        "#Atributo Peso ao nascer\n",
        "remove_specific_char(df, ['Peso ao nascer'], 'g')\n",
        "\n",
        "remove_blank_spaces(df, ['Peso ao nascer'])\n",
        "\n",
        "replace_char(df, ['Peso ao nascer'], ',', '.')\n",
        "\n",
        "convert_to_float(df, ['Peso ao nascer'])\n",
        "\n",
        "df.loc[(df['Peso ao nascer'] >= 1.0) & (df['Peso ao nascer'] < 1.5), 'Peso categoria'] = 'Muito abaixo do peso'\n",
        "\n",
        "df.loc[(df['Peso ao nascer'] >= 1.5) & (df['Peso ao nascer'] < 2.5), 'Peso categoria'] = 'Abaixo do peso'\n",
        "\n",
        "df.loc[(df['Peso ao nascer'] >= 2.5) & (df['Peso ao nascer'] < 4), 'Peso categoria'] = 'Peso adequado'\n",
        "\n",
        "df.loc[df['Peso ao nascer'] >= 4, 'Peso categoria'] = 'Elevado'\n",
        "\n",
        "df.drop('Peso ao nascer', axis='columns', inplace = True)\n",
        "\n",
        "df['Peso categoria'].value_counts()"
      ],
      "metadata": {
        "colab": {
          "base_uri": "https://localhost:8080/"
        },
        "id": "UGVtsSyhJQNK",
        "outputId": "d4460a3a-54ca-4346-ae44-42c8f27c46cd"
      },
      "execution_count": 408,
      "outputs": [
        {
          "output_type": "execute_result",
          "data": {
            "text/plain": [
              "Peso adequado           15\n",
              "Abaixo do peso           5\n",
              "Elevado                  1\n",
              "Muito abaixo do peso     1\n",
              "Name: Peso categoria, dtype: int64"
            ]
          },
          "metadata": {},
          "execution_count": 408
        }
      ]
    },
    {
      "cell_type": "markdown",
      "source": [
        "# Análise dos dados"
      ],
      "metadata": {
        "id": "ZXUv8hVwNqDt"
      }
    },
    {
      "cell_type": "code",
      "source": [
        "analyze_dataframe(df)"
      ],
      "metadata": {
        "colab": {
          "base_uri": "https://localhost:8080/"
        },
        "id": "TZb7vZwLNpxZ",
        "outputId": "4008d919-0a7f-43e9-a3e1-838cbf166148"
      },
      "execution_count": 409,
      "outputs": [
        {
          "output_type": "stream",
          "name": "stdout",
          "text": [
            "<class 'pandas.core.frame.DataFrame'>\n",
            "RangeIndex: 22 entries, 0 to 21\n",
            "Data columns (total 13 columns):\n",
            " #   Column                 Non-Null Count  Dtype \n",
            "---  ------                 --------------  ----- \n",
            " 0   Obito                  22 non-null     int64 \n",
            " 1   Uso de medicamentos    22 non-null     object\n",
            " 2   Abortos                22 non-null     object\n",
            " 3   Comorbidades           22 non-null     object\n",
            " 4   Ocupação               22 non-null     object\n",
            " 5   Local de residência    22 non-null     object\n",
            " 6   Sexo                   22 non-null     object\n",
            " 7   Raça                   22 non-null     object\n",
            " 8   Idade categoria        22 non-null     object\n",
            " 9   Prenatal               22 non-null     object\n",
            " 10  Semanas                22 non-null     object\n",
            " 11  Apgar 1 min categoria  22 non-null     object\n",
            " 12  Peso categoria         22 non-null     object\n",
            "dtypes: int64(1), object(12)\n",
            "memory usage: 2.4+ KB\n",
            "None\n",
            "\n",
            "Variáveis quantitativas:\n",
            "       count  mean       std  min  25%  50%  75%  max\n",
            "Obito   22.0   0.5  0.511766  0.0  0.0  0.5  1.0  1.0\n",
            "\n",
            "Variáveis qualitativas:\n",
            "                      count unique                   top freq\n",
            "Uso de medicamentos      22      2                   Não   18\n",
            "Abortos                  22      2                   Não   18\n",
            "Comorbidades             22      2                   Não   16\n",
            "Ocupação                 22      4   trabalho remunerado   10\n",
            "Local de residência      22      3              são luis   17\n",
            "Sexo                     22      2              feminino   11\n",
            "Raça                     22      3          não informad   11\n",
            "Idade categoria          22      3    Entre 25 e 34 anos    9\n",
            "Prenatal                 22      3       Até 7 consultas   10\n",
            "Semanas                  22      2  Maior que 37 semanas   16\n",
            "Apgar 1 min categoria    22      2  Igual ou maior que 7   15\n",
            "Peso categoria           22      4         Peso adequado   15\n"
          ]
        }
      ]
    },
    {
      "cell_type": "code",
      "source": [
        "crosstable_target(df, 'Obito', 'descriptive_analysis.xlsx')"
      ],
      "metadata": {
        "colab": {
          "base_uri": "https://localhost:8080/"
        },
        "id": "cJBl45Yo3flF",
        "outputId": "fb8375f7-7d2e-44ee-e4e0-b1aeefddd6b8"
      },
      "execution_count": 410,
      "outputs": [
        {
          "output_type": "stream",
          "name": "stdout",
          "text": [
            "FREQUENCIA:_____________________________________________________________________________________________\n",
            "Obito                                          0   1\n",
            "Uso de medicamentos   Não                      8  10\n",
            "                      Sim                      3   1\n",
            "Abortos               Não                     10   8\n",
            "                      Sim                      1   3\n",
            "Comorbidades          Não                      8   8\n",
            "                      Sim                      3   3\n",
            "Ocupação              do lar                   2   3\n",
            "                      estudante                3   2\n",
            "                      não informado            2   0\n",
            "                      trabalho remunerado      4   6\n",
            "Local de residência   raposa                   1   0\n",
            "                      são josé de ribamar      2   2\n",
            "                      são luis                 8   9\n",
            "Sexo                  feminino                 5   6\n",
            "                      masculino                6   5\n",
            "Raça                  branc                    0   3\n",
            "                      não informad             6   5\n",
            "                      pard                     5   3\n",
            "Idade categoria       Até 24 anos              5   1\n",
            "                      Entre 25 e 34 anos       3   6\n",
            "                      Maior que 35 anos        3   4\n",
            "Prenatal              8 e 9 consultas          3   3\n",
            "                      Até 7 consultas          6   4\n",
            "                      Maior que 10 consultas   2   4\n",
            "Semanas               Até 37 semanas           2   4\n",
            "                      Maior que 37 semanas     9   7\n",
            "Apgar 1 min categoria Abaixo de 7              2   5\n",
            "                      Igual ou maior que 7     9   6\n",
            "Peso categoria        Abaixo do peso           2   3\n",
            "                      Elevado                  1   0\n",
            "                      Muito abaixo do peso     0   1\n",
            "                      Peso adequado            8   7\n",
            "FREQUENCIA RELATIVA:____________________________________________________________________________________\n",
            "Obito                                             0      1\n",
            "Uso de medicamentos   Não                     72.73  90.91\n",
            "                      Sim                     27.27   9.09\n",
            "Abortos               Não                     90.91  72.73\n",
            "                      Sim                      9.09  27.27\n",
            "Comorbidades          Não                     72.73  72.73\n",
            "                      Sim                     27.27  27.27\n",
            "Ocupação              do lar                  18.18  27.27\n",
            "                      estudante               27.27  18.18\n",
            "                      não informado           18.18   0.00\n",
            "                      trabalho remunerado     36.36  54.55\n",
            "Local de residência   raposa                   9.09   0.00\n",
            "                      são josé de ribamar     18.18  18.18\n",
            "                      são luis                72.73  81.82\n",
            "Sexo                  feminino                45.45  54.55\n",
            "                      masculino               54.55  45.45\n",
            "Raça                  branc                    0.00  27.27\n",
            "                      não informad            54.55  45.45\n",
            "                      pard                    45.45  27.27\n",
            "Idade categoria       Até 24 anos             45.45   9.09\n",
            "                      Entre 25 e 34 anos      27.27  54.55\n",
            "                      Maior que 35 anos       27.27  36.36\n",
            "Prenatal              8 e 9 consultas         27.27  27.27\n",
            "                      Até 7 consultas         54.55  36.36\n",
            "                      Maior que 10 consultas  18.18  36.36\n",
            "Semanas               Até 37 semanas          18.18  36.36\n",
            "                      Maior que 37 semanas    81.82  63.64\n",
            "Apgar 1 min categoria Abaixo de 7             18.18  45.45\n",
            "                      Igual ou maior que 7    81.82  54.55\n",
            "Peso categoria        Abaixo do peso          18.18  27.27\n",
            "                      Elevado                  9.09   0.00\n",
            "                      Muito abaixo do peso     0.00   9.09\n",
            "                      Peso adequado           72.73  63.64\n"
          ]
        }
      ]
    }
  ]
}